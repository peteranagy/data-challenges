{
 "cells": [
  {
   "cell_type": "markdown",
   "metadata": {},
   "source": [
    "# Description"
   ]
  },
  {
   "cell_type": "markdown",
   "metadata": {},
   "source": [
    "evaluation:\n",
    "\n",
    "- time of calculating answers\n",
    "- for each missing answer time is doubled"
   ]
  },
  {
   "cell_type": "markdown",
   "metadata": {},
   "source": [
    "## get dev data"
   ]
  },
  {
   "cell_type": "code",
   "execution_count": 1,
   "metadata": {},
   "outputs": [],
   "source": [
    "import os\n",
    "import sys\n",
    "import shutil\n",
    "import pandas as pd\n",
    "import numpy as np\n",
    "%matplotlib inline"
   ]
  },
  {
   "cell_type": "code",
   "execution_count": 2,
   "metadata": {},
   "outputs": [],
   "source": [
    "sys.path.append(\"..\")\n",
    "from test_framework import comparison_test"
   ]
  },
  {
   "cell_type": "code",
   "execution_count": 3,
   "metadata": {},
   "outputs": [],
   "source": [
    "datadir = '../data_sources/soccerway_data'\n",
    "if not os.path.exists(datadir):\n",
    "    os.makedirs(datadir)\n"
   ]
  },
  {
   "cell_type": "markdown",
   "metadata": {},
   "source": [
    "put as much as you need of this to datadir\n",
    "\n",
    "https://www.dropbox.com/sh/2ebfiuzau02ns6y/AABNPprCbIiqoS2tcVFUfm14a?dl=0"
   ]
  },
  {
   "cell_type": "markdown",
   "metadata": {},
   "source": [
    "## evaluate solutions on dev data"
   ]
  },
  {
   "cell_type": "markdown",
   "metadata": {},
   "source": [
    "#### create testinputs"
   ]
  },
  {
   "cell_type": "code",
   "execution_count": 4,
   "metadata": {},
   "outputs": [],
   "source": [
    "M_INFO_FULL = pd.read_csv(datadir +  '/m_info.csv')"
   ]
  },
  {
   "cell_type": "code",
   "execution_count": 5,
   "metadata": {},
   "outputs": [],
   "source": [
    "inputdir = 'inputs'\n",
    "if os.path.exists(inputdir):\n",
    "    shutil.rmtree(inputdir)\n",
    "os.makedirs(inputdir)"
   ]
  },
  {
   "cell_type": "code",
   "execution_count": 6,
   "metadata": {},
   "outputs": [],
   "source": [
    "def generate_input(input_size):\n",
    "    pickle_file = '%s/%d-%f.pkl' % (inputdir,np.random.randint(10000000),input_size)\n",
    "    M_INFO_FULL.sample(frac=input_size).reset_index()\\\n",
    "            .drop('index',axis=1).to_pickle(pickle_file)\n",
    "    return {'data_pickle':pickle_file}"
   ]
  },
  {
   "cell_type": "code",
   "execution_count": 7,
   "metadata": {},
   "outputs": [],
   "source": [
    "envdir = 'env_dir'\n",
    "stagedir = 'staging'"
   ]
  },
  {
   "cell_type": "code",
   "execution_count": 8,
   "metadata": {},
   "outputs": [],
   "source": [
    "datalocs = {k: '%s/%s.csv' % (datadir,k) for k in ['p_info','t_info','p_values','m_odds']}\n",
    "\n",
    "data_dicts = {'ALL_DATA':{**datalocs,**{'staging_folder':stagedir}}}\n",
    "\n",
    "input_sizes = [1]\n",
    "reps = 1\n",
    "\n",
    "input_set = {}\n",
    "for data_name in data_dicts.keys():\n",
    "    input_set[data_name] = {}\n",
    "    for input_size in input_sizes:\n",
    "        input_set[data_name][input_size] = [generate_input(input_size) \n",
    "                                            for _ in range(reps)]"
   ]
  },
  {
   "cell_type": "code",
   "execution_count": 9,
   "metadata": {
    "scrolled": false
   },
   "outputs": [
    {
     "data": {
      "application/vnd.jupyter.widget-view+json": {
       "model_id": "7dabfeebda814b91bd20440d1e0958fa",
       "version_major": 2,
       "version_minor": 0
      },
      "text/plain": [
       "HBox(children=(IntProgress(value=0, max=1), HTML(value='')))"
      ]
     },
     "metadata": {},
     "output_type": "display_data"
    },
    {
     "name": "stdout",
     "output_type": "stream",
     "text": [
      "flaszkalapok\n"
     ]
    },
    {
     "data": {
      "application/vnd.jupyter.widget-view+json": {
       "model_id": "b35bd1fb5dec46caa1ca2053c7d02b6e",
       "version_major": 2,
       "version_minor": 0
      },
      "text/plain": [
       "HBox(children=(IntProgress(value=0, max=1), HTML(value='')))"
      ]
     },
     "metadata": {},
     "output_type": "display_data"
    },
    {
     "name": "stdout",
     "output_type": "stream",
     "text": [
      "Starting ETL process\n",
      "ETL process started\n",
      "ETL process done\n",
      "Starting cleanup process\n",
      "cleanup process started\n",
      "cleanup process done\n",
      "ETL killed\n",
      "\n"
     ]
    }
   ],
   "source": [
    "WINDOWS = True #if false it assumes unix\n",
    "timedata,out_dfs = comparison_test(data_dicts,input_set,\n",
    "                                   envdir,stagedir,\n",
    "                                   is_windows=WINDOWS,\n",
    "                                  verbose=True)"
   ]
  },
  {
   "cell_type": "code",
   "execution_count": 12,
   "metadata": {
    "scrolled": true
   },
   "outputs": [
    {
     "data": {
      "text/plain": [
       "{'flaszkalapok':    biggest-stadium-capacity-difference-upset  \\\n",
       " 0                                        NaN   \n",
       " 1                                        NaN   \n",
       " 2                                        NaN   \n",
       " 3                                        NaN   \n",
       " 4                                        NaN   \n",
       " 5                                        NaN   \n",
       " 6                                        NaN   \n",
       " 7                                        NaN   \n",
       " 8                                        NaN   \n",
       " 9                                        NaN   \n",
       " 10                                       NaN   \n",
       " 11                                       NaN   \n",
       " 12                                       NaN   \n",
       " 13                                       NaN   \n",
       " 14                                       NaN   \n",
       " 15                                       NaN   \n",
       " 16                                       NaN   \n",
       " 17                                       NaN   \n",
       " 18                                       NaN   \n",
       " 19                                       NaN   \n",
       " 20                                   90329.0   \n",
       " 21                                       NaN   \n",
       " \n",
       "    capacity-of-stadium-of-team-with-most-games  \\\n",
       " 0                                          NaN   \n",
       " 1                                          NaN   \n",
       " 2                                          NaN   \n",
       " 3                                          NaN   \n",
       " 4                                          NaN   \n",
       " 5                                          NaN   \n",
       " 6                                          NaN   \n",
       " 7                                          NaN   \n",
       " 8                                          NaN   \n",
       " 9                                          NaN   \n",
       " 10                                         NaN   \n",
       " 11                                         NaN   \n",
       " 12                                         NaN   \n",
       " 13                                         NaN   \n",
       " 14                                         NaN   \n",
       " 15                                         NaN   \n",
       " 16                                         NaN   \n",
       " 17                                         NaN   \n",
       " 18                                         NaN   \n",
       " 19                                         NaN   \n",
       " 20                                         NaN   \n",
       " 21                                     75000.0   \n",
       " \n",
       "    goalkeeper-with-most-clean-sheets largest-odds-overcome-in-game  \\\n",
       " 0                                NaN                           NaN   \n",
       " 1                                NaN                           NaN   \n",
       " 2                                NaN                           NaN   \n",
       " 3                                NaN                           NaN   \n",
       " 4                                NaN                           NaN   \n",
       " 5                                NaN                           NaN   \n",
       " 6                                NaN                           NaN   \n",
       " 7                                NaN                         66.67   \n",
       " 8                                NaN                           NaN   \n",
       " 9                                NaN                           NaN   \n",
       " 10                               NaN                           NaN   \n",
       " 11                               NaN                           NaN   \n",
       " 12                               NaN                           NaN   \n",
       " 13                               NaN                           NaN   \n",
       " 14                               NaN                           NaN   \n",
       " 15                               NaN                           NaN   \n",
       " 16                               NaN                           NaN   \n",
       " 17                                 1                           NaN   \n",
       " 18                               NaN                           NaN   \n",
       " 19                               NaN                           NaN   \n",
       " 20                               NaN                           NaN   \n",
       " 21                               NaN                           NaN   \n",
       " \n",
       "    longest-time-in-days-between-two-games-for-player  \\\n",
       " 0                                                NaN   \n",
       " 1                                                NaN   \n",
       " 2                                                NaN   \n",
       " 3                                                NaN   \n",
       " 4                                                NaN   \n",
       " 5                                                NaN   \n",
       " 6                                                NaN   \n",
       " 7                                                NaN   \n",
       " 8                                                NaN   \n",
       " 9                                                NaN   \n",
       " 10                                               NaN   \n",
       " 11                                               NaN   \n",
       " 12                                               NaN   \n",
       " 13                                               NaN   \n",
       " 14                                               NaN   \n",
       " 15                                               NaN   \n",
       " 16                                5179 days 00:00:00   \n",
       " 17                                               NaN   \n",
       " 18                                               NaN   \n",
       " 19                                               NaN   \n",
       " 20                                               NaN   \n",
       " 21                                               NaN   \n",
       " \n",
       "    median-of-winning-team-average-age most-different-formations-by-player  \\\n",
       " 0                                 NaN                                 NaN   \n",
       " 1                                 NaN                                 NaN   \n",
       " 2                                 NaN                                 NaN   \n",
       " 3                                 NaN                                 NaN   \n",
       " 4                                 NaN                                 NaN   \n",
       " 5                                 NaN                                 NaN   \n",
       " 6                                 NaN                                  24   \n",
       " 7                                 NaN                                 NaN   \n",
       " 8                                 NaN                                 NaN   \n",
       " 9                                 NaN                                 NaN   \n",
       " 10                                NaN                                 NaN   \n",
       " 11                                NaN                                 NaN   \n",
       " 12                                NaN                                 NaN   \n",
       " 13                                NaN                                 NaN   \n",
       " 14                                NaN                                 NaN   \n",
       " 15                                NaN                                 NaN   \n",
       " 16                                NaN                                 NaN   \n",
       " 17                                NaN                                 NaN   \n",
       " 18                                NaN                                 NaN   \n",
       " 19                 26.265753424657536                                 NaN   \n",
       " 20                                NaN                                 NaN   \n",
       " 21                                NaN                                 NaN   \n",
       " \n",
       "    most-different-positions-by-player  \\\n",
       " 0                                 NaN   \n",
       " 1                                 NaN   \n",
       " 2                                 NaN   \n",
       " 3                                 NaN   \n",
       " 4                                 NaN   \n",
       " 5                                  64   \n",
       " 6                                 NaN   \n",
       " 7                                 NaN   \n",
       " 8                                 NaN   \n",
       " 9                                 NaN   \n",
       " 10                                NaN   \n",
       " 11                                NaN   \n",
       " 12                                NaN   \n",
       " 13                                NaN   \n",
       " 14                                NaN   \n",
       " 15                                NaN   \n",
       " 16                                NaN   \n",
       " 17                                NaN   \n",
       " 18                                NaN   \n",
       " 19                                NaN   \n",
       " 20                                NaN   \n",
       " 21                                NaN   \n",
       " \n",
       "    most-games-played-in-same-position-by-player most-used-formation    ...     \\\n",
       " 0                                           NaN             4-2-3-1    ...      \n",
       " 1                                           NaN                 NaN    ...      \n",
       " 2                                           NaN                 NaN    ...      \n",
       " 3                                           NaN                 NaN    ...      \n",
       " 4                                           515                 NaN    ...      \n",
       " 5                                           NaN                 NaN    ...      \n",
       " 6                                           NaN                 NaN    ...      \n",
       " 7                                           NaN                 NaN    ...      \n",
       " 8                                           NaN                 NaN    ...      \n",
       " 9                                           NaN                 NaN    ...      \n",
       " 10                                          NaN                 NaN    ...      \n",
       " 11                                          NaN                 NaN    ...      \n",
       " 12                                          NaN                 NaN    ...      \n",
       " 13                                          NaN                 NaN    ...      \n",
       " 14                                          NaN                 NaN    ...      \n",
       " 15                                          NaN                 NaN    ...      \n",
       " 16                                          NaN                 NaN    ...      \n",
       " 17                                          NaN                 NaN    ...      \n",
       " 18                                          NaN                 NaN    ...      \n",
       " 19                                          NaN                 NaN    ...      \n",
       " 20                                          NaN                 NaN    ...      \n",
       " 21                                          NaN                 NaN    ...      \n",
       " \n",
       "    position-with-highest-average-value position-with-largest-average-height  \\\n",
       " 0                                  NaN                                  NaN   \n",
       " 1                                  NaN                                  NaN   \n",
       " 2                                  NaN                                  NaN   \n",
       " 3                                  NaN                                  NaN   \n",
       " 4                                  NaN                                  NaN   \n",
       " 5                                  NaN                                  NaN   \n",
       " 6                                  NaN                                  NaN   \n",
       " 7                                  NaN                                  NaN   \n",
       " 8                                  NaN                                  NaN   \n",
       " 9                                  NaN                                  NaN   \n",
       " 10                                 NaN                                  NaN   \n",
       " 11                                 NaN                 top: 80%; left: 40%;   \n",
       " 12                                 NaN                                  NaN   \n",
       " 13                                 NaN                                  NaN   \n",
       " 14                                 NaN                                  NaN   \n",
       " 15                top: 20%; left: 30%;                                  NaN   \n",
       " 16                                 NaN                                  NaN   \n",
       " 17                                 NaN                                  NaN   \n",
       " 18                                 NaN                                  NaN   \n",
       " 19                                 NaN                                  NaN   \n",
       " 20                                 NaN                                  NaN   \n",
       " 21                                 NaN                                  NaN   \n",
       " \n",
       "    position-with-youngest-average-age team-with-highest-profit-for-losing  \\\n",
       " 0                                 NaN                                 NaN   \n",
       " 1                                 NaN                                 NaN   \n",
       " 2                                 NaN                                 NaN   \n",
       " 3                                 NaN                                 NaN   \n",
       " 4                                 NaN                                 NaN   \n",
       " 5                                 NaN                                 NaN   \n",
       " 6                                 NaN                                 NaN   \n",
       " 7                                 NaN                                 NaN   \n",
       " 8                                 NaN                                 NaN   \n",
       " 9                                 NaN                                 NaN   \n",
       " 10                                NaN                                 NaN   \n",
       " 11                                NaN                                 NaN   \n",
       " 12                                NaN                                 NaN   \n",
       " 13                                NaN                                  Al   \n",
       " 14               top: 18%; left: 15%;                                 NaN   \n",
       " 15                                NaN                                 NaN   \n",
       " 16                                NaN                                 NaN   \n",
       " 17                                NaN                                 NaN   \n",
       " 18                                NaN                                 NaN   \n",
       " 19                                NaN                                 NaN   \n",
       " 20                                NaN                                 NaN   \n",
       " 21                                NaN                                 NaN   \n",
       " \n",
       "    team-with-lowest-average-odds-of-draw team-with-most-losses-as-favorite  \\\n",
       " 0                                    NaN                               NaN   \n",
       " 1                                    NaN                               NaN   \n",
       " 2                                    NaN                               NaN   \n",
       " 3                                    NaN                               NaN   \n",
       " 4                                    NaN                               NaN   \n",
       " 5                                    NaN                               NaN   \n",
       " 6                                    NaN                               NaN   \n",
       " 7                                    NaN                               NaN   \n",
       " 8                                    NaN                               NaN   \n",
       " 9                                    NaN                                Al   \n",
       " 10                              Fiji Ol.                               NaN   \n",
       " 11                                   NaN                               NaN   \n",
       " 12                                   NaN                               NaN   \n",
       " 13                                   NaN                               NaN   \n",
       " 14                                   NaN                               NaN   \n",
       " 15                                   NaN                               NaN   \n",
       " 16                                   NaN                               NaN   \n",
       " 17                                   NaN                               NaN   \n",
       " 18                                   NaN                               NaN   \n",
       " 19                                   NaN                               NaN   \n",
       " 20                                   NaN                               NaN   \n",
       " 21                                   NaN                               NaN   \n",
       " \n",
       "    team-with-most-wins-as-underdog  \\\n",
       " 0                              NaN   \n",
       " 1                              NaN   \n",
       " 2                              NaN   \n",
       " 3                              NaN   \n",
       " 4                              NaN   \n",
       " 5                              NaN   \n",
       " 6                              NaN   \n",
       " 7                              NaN   \n",
       " 8                               Al   \n",
       " 9                              NaN   \n",
       " 10                             NaN   \n",
       " 11                             NaN   \n",
       " 12                             NaN   \n",
       " 13                             NaN   \n",
       " 14                             NaN   \n",
       " 15                             NaN   \n",
       " 16                             NaN   \n",
       " 17                             NaN   \n",
       " 18                             NaN   \n",
       " 19                             NaN   \n",
       " 20                             NaN   \n",
       " 21                             NaN   \n",
       " \n",
       "    Átlagosan legtöbb gólt kapó kapus születési dátuma input_id   data_id  \n",
       " 0                                                 NaN        1  ALL_DATA  \n",
       " 1                                                 NaN        1  ALL_DATA  \n",
       " 2                                                 NaN        1  ALL_DATA  \n",
       " 3                                                 NaN        1  ALL_DATA  \n",
       " 4                                                 NaN        1  ALL_DATA  \n",
       " 5                                                 NaN        1  ALL_DATA  \n",
       " 6                                                 NaN        1  ALL_DATA  \n",
       " 7                                                 NaN        1  ALL_DATA  \n",
       " 8                                                 NaN        1  ALL_DATA  \n",
       " 9                                                 NaN        1  ALL_DATA  \n",
       " 10                                                NaN        1  ALL_DATA  \n",
       " 11                                                NaN        1  ALL_DATA  \n",
       " 12                                                NaN        1  ALL_DATA  \n",
       " 13                                                NaN        1  ALL_DATA  \n",
       " 14                                                NaN        1  ALL_DATA  \n",
       " 15                                                NaN        1  ALL_DATA  \n",
       " 16                                                NaN        1  ALL_DATA  \n",
       " 17                                                NaN        1  ALL_DATA  \n",
       " 18                                         1973-04-24        1  ALL_DATA  \n",
       " 19                                                NaN        1  ALL_DATA  \n",
       " 20                                                NaN        1  ALL_DATA  \n",
       " 21                                                NaN        1  ALL_DATA  \n",
       " \n",
       " [22 rows x 24 columns]}"
      ]
     },
     "execution_count": 12,
     "metadata": {},
     "output_type": "execute_result"
    }
   ],
   "source": [
    "out_dfs"
   ]
  },
  {
   "cell_type": "code",
   "execution_count": 12,
   "metadata": {},
   "outputs": [],
   "source": [
    "shutil.rmtree(inputdir)"
   ]
  },
  {
   "cell_type": "code",
   "execution_count": 18,
   "metadata": {},
   "outputs": [
    {
     "data": {
      "text/html": [
       "<div>\n",
       "<style scoped>\n",
       "    .dataframe tbody tr th:only-of-type {\n",
       "        vertical-align: middle;\n",
       "    }\n",
       "\n",
       "    .dataframe tbody tr th {\n",
       "        vertical-align: top;\n",
       "    }\n",
       "\n",
       "    .dataframe thead th {\n",
       "        text-align: right;\n",
       "    }\n",
       "</style>\n",
       "<table border=\"1\" class=\"dataframe\">\n",
       "  <thead>\n",
       "    <tr style=\"text-align: right;\">\n",
       "      <th></th>\n",
       "      <th>0</th>\n",
       "    </tr>\n",
       "  </thead>\n",
       "  <tbody>\n",
       "    <tr>\n",
       "      <th>0</th>\n",
       "      <td>123142151</td>\n",
       "    </tr>\n",
       "    <tr>\n",
       "      <th>1</th>\n",
       "      <td>1234114</td>\n",
       "    </tr>\n",
       "  </tbody>\n",
       "</table>\n",
       "</div>"
      ],
      "text/plain": [
       "           0\n",
       "0  123142151\n",
       "1    1234114"
      ]
     },
     "execution_count": 18,
     "metadata": {},
     "output_type": "execute_result"
    }
   ],
   "source": [
    "df=pd.DataFrame([123142151,1234114])\n"
   ]
  },
  {
   "cell_type": "code",
   "execution_count": 22,
   "metadata": {},
   "outputs": [
    {
     "ename": "AttributeError",
     "evalue": "'Timestamp' object has no attribute 'dt'",
     "output_type": "error",
     "traceback": [
      "\u001b[1;31m---------------------------------------------------------------------------\u001b[0m",
      "\u001b[1;31mAttributeError\u001b[0m                            Traceback (most recent call last)",
      "\u001b[1;32m<ipython-input-22-4eb0897587bc>\u001b[0m in \u001b[0;36m<module>\u001b[1;34m\u001b[0m\n\u001b[1;32m----> 1\u001b[1;33m \u001b[0mpd\u001b[0m\u001b[1;33m.\u001b[0m\u001b[0mTimestamp\u001b[0m\u001b[1;33m.\u001b[0m\u001b[0mnow\u001b[0m\u001b[1;33m(\u001b[0m\u001b[1;33m)\u001b[0m\u001b[1;33m.\u001b[0m\u001b[0mdt\u001b[0m\u001b[1;33m\u001b[0m\u001b[1;33m\u001b[0m\u001b[0m\n\u001b[0m",
      "\u001b[1;31mAttributeError\u001b[0m: 'Timestamp' object has no attribute 'dt'"
     ]
    }
   ],
   "source": [
    "pd.Timestamp.now().dt"
   ]
  },
  {
   "cell_type": "code",
   "execution_count": 13,
   "metadata": {},
   "outputs": [],
   "source": [
    "sample_output = [ \n",
    "          {'most-used-formation':None},\n",
    "          {'number-of-players-with-no-games':None},\n",
    "          {'player-with-highest-number-of-games':None},\n",
    "          {'player-with-highest-number-of-games-where-his-team-didnt-concede':None},\n",
    "          {'most-games-played-in-same-position-by-player':None},\n",
    "          {'most-different-positions-by-player':None},\n",
    "          {'most-different-formations-by-player':None},\n",
    "          {'largest-odds-overcome-in-game':None},\n",
    "          {'largest-height-difference-overcome-in-game':None},\n",
    "          {'longest-time-in-days-between-two-games-for-player':None},\n",
    "          {'biggest-value-difference':None},\n",
    "          {'biggest-value-difference-upset':None}, # an upset means the unexpected team won\n",
    "          {'biggest-value-difference-with-higher-odds':None},\n",
    "          {'biggest-stadium-capacity-difference-upset':None},\n",
    "          {'capacity-of-stadium-of-team-with-most-games':None},\n",
    "          {'id-of-oldest-team-to-win-a-game':None},\n",
    "          {'biggest-age-difference-between-teams-match-id':None},\n",
    "          {'median-of-winning-team-average-age':None},\n",
    "          {'median-of-favorite-team-average-age':None}, # favorite means has lower odds of winning\n",
    "          {'median-of-underdog-team-average-age':None}, # underdog means has higher odds of winning\n",
    "          {'team-with-most-wins-as-underdog':None},\n",
    "          {'team-with-most-losses-as-favorite':None},\n",
    "          {'team-with-lowest-average-odds-of-draw':None},\n",
    "          {'position-with-highest-average-value':None},\n",
    "          {'position-with-largest-average-height':None},\n",
    "          {'position-with-largest-average-height':None}\n",
    "    ]"
   ]
  },
  {
   "cell_type": "code",
   "execution_count": 14,
   "metadata": {
    "scrolled": false
   },
   "outputs": [],
   "source": [
    "similarity = []\n",
    "\n",
    "for id1,solution1 in enumerate(list(out_dfs.keys())[:-1]):\n",
    "    _df1 = out_dfs[solution1]\n",
    "    solution2 = list(out_dfs.keys())[id1+1]\n",
    "    _df2 = out_dfs[solution2]\n",
    "    print('----------\\n%s:\\n' % solution1,_df1[_df1 != _df2].unstack().dropna())\n",
    "    print('----------\\n%s:\\n' % solution2,_df2[_df1 != _df2].unstack().dropna())\n",
    "    similarity.append({\n",
    "        'solution1':solution1,\n",
    "        'solution2':solution2,\n",
    "        'similarity':(_df1 == _df2).mean().mean()\n",
    "    })\n",
    "#pd.DataFrame(similarity).sort_values('similarity')"
   ]
  },
  {
   "cell_type": "code",
   "execution_count": 15,
   "metadata": {},
   "outputs": [],
   "source": [
    "timedf = pd.DataFrame(timedata).pivot_table(columns='solution',values='calc_time',\n",
    "                                   index=['data_id','input_id'],aggfunc='median').reset_index()"
   ]
  },
  {
   "cell_type": "code",
   "execution_count": 16,
   "metadata": {
    "scrolled": false
   },
   "outputs": [
    {
     "data": {
      "image/png": "[encoded data removed]",
      "text/plain": [
       "<Figure size 720x720 with 1 Axes>"
      ]
     },
     "metadata": {
      "needs_background": "light"
     },
     "output_type": "display_data"
    },
    {
     "data": {
      "image/png": "[encoded data removed]",
      "text/plain": [
       "<Figure size 720x720 with 1 Axes>"
      ]
     },
     "metadata": {
      "needs_background": "light"
     },
     "output_type": "display_data"
    },
    {
     "data": {
      "image/png": "[encoded data removed]",
      "text/plain": [
       "<Figure size 720x720 with 1 Axes>"
      ]
     },
     "metadata": {
      "needs_background": "light"
     },
     "output_type": "display_data"
    },
    {
     "data": {
      "image/png": "[encoded data removed]",
      "text/plain": [
       "<Figure size 720x720 with 1 Axes>"
      ]
     },
     "metadata": {
      "needs_background": "light"
     },
     "output_type": "display_data"
    }
   ],
   "source": [
    "allgroups = ['data_id','input_id']\n",
    "for basegroup in allgroups:\n",
    "    remaingroup = [c for c in allgroups if c != basegroup]\n",
    "    for _gname,_gdf in timedf.groupby(basegroup):\n",
    "        _gdf.drop(basegroup,axis=1).groupby(remaingroup).median()\\\n",
    "        .plot(kind='bar',figsize=(10,10),title='%s - %s' % (str(basegroup),str(_gname)))"
   ]
  },
  {
   "cell_type": "code",
   "execution_count": null,
   "metadata": {},
   "outputs": [],
   "source": []
  }
 ],
 "metadata": {
  "kernelspec": {
   "display_name": "Python 3",
   "language": "python",
   "name": "python3"
  },
  "language_info": {
   "codemirror_mode": {
    "name": "ipython",
    "version": 3
   },
   "file_extension": ".py",
   "mimetype": "text/x-python",
   "name": "python",
   "nbconvert_exporter": "python",
   "pygments_lexer": "ipython3",
   "version": "3.7.1"
  }
 },
 "nbformat": 4,
 "nbformat_minor": 2
}
